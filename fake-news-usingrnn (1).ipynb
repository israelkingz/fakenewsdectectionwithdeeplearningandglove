{
 "cells": [
  {
   "cell_type": "code",
   "execution_count": 2,
   "metadata": {
    "_cell_guid": "b1076dfc-b9ad-4769-8c92-a6c4dae69d19",
    "_uuid": "8f2839f25d086af736a60e9eeb907d3b93b6e0e5",
    "execution": {
     "iopub.execute_input": "2022-03-09T13:31:32.341538Z",
     "iopub.status.busy": "2022-03-09T13:31:32.341336Z",
     "iopub.status.idle": "2022-03-09T13:31:32.355216Z",
     "shell.execute_reply": "2022-03-09T13:31:32.354455Z",
     "shell.execute_reply.started": "2022-03-09T13:31:32.341507Z"
    }
   },
   "outputs": [],
   "source": [
    "# This Python 3 environment comes with many helpful analytics libraries installed\n",
    "# It is defined by the kaggle/python Docker image: https://github.com/kaggle/docker-python\n",
    "# For example, here's several helpful packages to load\n",
    "\n",
    "import numpy as np # linear algebra\n",
    "import pandas as pd # data processing, CSV file I/O (e.g. pd.read_csv)\n",
    "\n",
    "# Input data files are available in the read-only \"../input/\" directory\n",
    "# For example, running this (by clicking run or pressing Shift+Enter) will list all files under the input directory\n",
    "\n",
    "import os\n",
    "for dirname, _, filenames in os.walk('/kaggle/input'):\n",
    "    for filename in filenames:\n",
    "        print(os.path.join(dirname, filename))\n",
    "\n",
    "# You can write up to 20GB to the current directory (/kaggle/working/) that gets preserved as output when you create a version using \"Save & Run All\" \n",
    "# You can also write temporary files to /kaggle/temp/, but they won't be saved outside of the current session"
   ]
  },
  {
   "cell_type": "code",
   "execution_count": 3,
   "metadata": {
    "execution": {
     "iopub.execute_input": "2022-03-09T13:31:32.360488Z",
     "iopub.status.busy": "2022-03-09T13:31:32.360304Z",
     "iopub.status.idle": "2022-03-09T13:31:34.603144Z",
     "shell.execute_reply": "2022-03-09T13:31:34.602305Z",
     "shell.execute_reply.started": "2022-03-09T13:31:32.360467Z"
    }
   },
   "outputs": [],
   "source": [
    "fake_news = pd.read_csv('/kaggle/input/dataminingproject2/Fake.csv')\n",
    "true_news = pd.read_csv('/kaggle/input/dataminingproject2/True.csv')"
   ]
  },
  {
   "cell_type": "code",
   "execution_count": 4,
   "metadata": {
    "execution": {
     "iopub.execute_input": "2022-03-09T13:31:34.604864Z",
     "iopub.status.busy": "2022-03-09T13:31:34.604600Z",
     "iopub.status.idle": "2022-03-09T13:31:34.655895Z",
     "shell.execute_reply": "2022-03-09T13:31:34.655197Z",
     "shell.execute_reply.started": "2022-03-09T13:31:34.604833Z"
    }
   },
   "outputs": [],
   "source": [
    "# print shape of fake dataset with rows and columns and information \n",
    "print (\"The shape of the  data is (row, column):\"+ str(fake_news.shape))\n",
    "print (fake_news.info())\n",
    "print(\"\\n --------------------------------------- \\n\")\n",
    "\n",
    "# print shape of true dataset with rows and columns and information\n",
    "print (\"The shape of the  data is (row, column):\"+ str(true_news.shape))\n",
    "print (true_news.info())"
   ]
  },
  {
   "cell_type": "code",
   "execution_count": 5,
   "metadata": {
    "execution": {
     "iopub.execute_input": "2022-03-09T13:31:41.305981Z",
     "iopub.status.busy": "2022-03-09T13:31:41.305700Z",
     "iopub.status.idle": "2022-03-09T13:31:41.312523Z",
     "shell.execute_reply": "2022-03-09T13:31:41.311675Z",
     "shell.execute_reply.started": "2022-03-09T13:31:41.305951Z"
    }
   },
   "outputs": [],
   "source": [
    "#Target variable for fake news\n",
    "fake_news['output']=0\n",
    "\n",
    "#Target variable for true news\n",
    "true_news['output']=1"
   ]
  },
  {
   "cell_type": "code",
   "execution_count": 6,
   "metadata": {
    "execution": {
     "iopub.execute_input": "2022-03-09T13:31:45.382311Z",
     "iopub.status.busy": "2022-03-09T13:31:45.382056Z",
     "iopub.status.idle": "2022-03-09T13:31:45.538212Z",
     "shell.execute_reply": "2022-03-09T13:31:45.537496Z",
     "shell.execute_reply.started": "2022-03-09T13:31:45.382285Z"
    }
   },
   "outputs": [],
   "source": [
    "#Concatenating and dropping for fake news\n",
    "fake_news['news']=fake_news['title']+fake_news['text']\n",
    "fake_news=fake_news.drop(['title', 'text'], axis=1)\n",
    "\n",
    "#Concatenating and dropping for true news\n",
    "true_news['news']=true_news['title']+true_news['text']\n",
    "true_news=true_news.drop(['title', 'text'], axis=1)\n",
    "\n",
    "#Rearranging the columns\n",
    "fake_news = fake_news[['subject', 'date', 'news','output']]\n",
    "true_news = true_news[['subject', 'date', 'news','output']]"
   ]
  },
  {
   "cell_type": "code",
   "execution_count": 7,
   "metadata": {
    "execution": {
     "iopub.execute_input": "2022-03-09T13:31:49.929443Z",
     "iopub.status.busy": "2022-03-09T13:31:49.928708Z",
     "iopub.status.idle": "2022-03-09T13:31:49.991834Z",
     "shell.execute_reply": "2022-03-09T13:31:49.991121Z",
     "shell.execute_reply.started": "2022-03-09T13:31:49.929407Z"
    }
   },
   "outputs": [],
   "source": [
    "#Removing links and the headline from the date column\n",
    "fake_news=fake_news[~fake_news.date.str.contains(\"http\")]\n",
    "fake_news=fake_news[~fake_news.date.str.contains(\"HOST\")]\n",
    "\n",
    "'''You can also execute the below code to get the result \n",
    "which allows only string which has the months and rest are filtered'''\n",
    "fake_news=fake_news[fake_news.date.str.contains(\"Jan|Feb|Mar|Apr|May|Jun|Jul|Aug|Sep|Oct|Nov|Dec\")]\n"
   ]
  },
  {
   "cell_type": "code",
   "execution_count": 8,
   "metadata": {
    "execution": {
     "iopub.execute_input": "2022-03-09T13:31:51.601288Z",
     "iopub.status.busy": "2022-03-09T13:31:51.600622Z",
     "iopub.status.idle": "2022-03-09T13:31:51.835422Z",
     "shell.execute_reply": "2022-03-09T13:31:51.834733Z",
     "shell.execute_reply.started": "2022-03-09T13:31:51.601254Z"
    }
   },
   "outputs": [],
   "source": [
    "#Converting the date to datetime format\n",
    "fake_news['date'] = pd.to_datetime(fake_news['date'])\n",
    "true_news['date'] = pd.to_datetime(true_news['date'])"
   ]
  },
  {
   "cell_type": "code",
   "execution_count": 9,
   "metadata": {
    "execution": {
     "iopub.execute_input": "2022-03-09T13:31:54.825656Z",
     "iopub.status.busy": "2022-03-09T13:31:54.824750Z",
     "iopub.status.idle": "2022-03-09T13:31:54.853810Z",
     "shell.execute_reply": "2022-03-09T13:31:54.852737Z",
     "shell.execute_reply.started": "2022-03-09T13:31:54.825614Z"
    }
   },
   "outputs": [],
   "source": [
    "frames = [fake_news, true_news]\n",
    "news_dataset = pd.concat(frames)\n",
    "news_dataset.tail()"
   ]
  },
  {
   "cell_type": "code",
   "execution_count": 10,
   "metadata": {
    "execution": {
     "iopub.execute_input": "2022-03-09T13:32:00.819306Z",
     "iopub.status.busy": "2022-03-09T13:32:00.818636Z",
     "iopub.status.idle": "2022-03-09T13:32:00.825280Z",
     "shell.execute_reply": "2022-03-09T13:32:00.824586Z",
     "shell.execute_reply.started": "2022-03-09T13:32:00.819271Z"
    }
   },
   "outputs": [],
   "source": [
    "#Creating a copy \n",
    "clean_news=news_dataset.copy()"
   ]
  },
  {
   "cell_type": "code",
   "execution_count": 11,
   "metadata": {
    "execution": {
     "iopub.execute_input": "2022-03-09T13:34:49.841404Z",
     "iopub.status.busy": "2022-03-09T13:34:49.841128Z",
     "iopub.status.idle": "2022-03-09T13:34:49.853075Z",
     "shell.execute_reply": "2022-03-09T13:34:49.852332Z",
     "shell.execute_reply.started": "2022-03-09T13:34:49.841377Z"
    }
   },
   "outputs": [],
   "source": [
    "clean_news.head()"
   ]
  },
  {
   "cell_type": "code",
   "execution_count": 15,
   "metadata": {
    "execution": {
     "iopub.execute_input": "2022-03-09T13:36:34.410209Z",
     "iopub.status.busy": "2022-03-09T13:36:34.409943Z",
     "iopub.status.idle": "2022-03-09T13:36:34.416425Z",
     "shell.execute_reply": "2022-03-09T13:36:34.415738Z",
     "shell.execute_reply.started": "2022-03-09T13:36:34.410182Z"
    }
   },
   "outputs": [],
   "source": [
    "import matplotlib.pyplot as plt \n",
    "import tensorflow as tf \n",
    "import re \n",
    "from tensorflow.keras.preprocessing.text import Tokenizer\n",
    "import tensorflow as tf\n",
    "from sklearn.metrics import accuracy_score\n",
    "from sklearn.model_selection import train_test_split\n",
    "from sklearn.metrics import accuracy_score, confusion_matrix, precision_score, recall_score\n",
    "import seaborn as sns \n",
    "plt.style.use('ggplot')"
   ]
  },
  {
   "cell_type": "code",
   "execution_count": 16,
   "metadata": {
    "execution": {
     "iopub.execute_input": "2022-03-09T13:36:37.905611Z",
     "iopub.status.busy": "2022-03-09T13:36:37.905106Z",
     "iopub.status.idle": "2022-03-09T13:36:37.922256Z",
     "shell.execute_reply": "2022-03-09T13:36:37.921577Z",
     "shell.execute_reply.started": "2022-03-09T13:36:37.905573Z"
    }
   },
   "outputs": [],
   "source": [
    "features = clean_news['news']\n",
    "targets = clean_news['output']\n",
    "\n",
    "X_train, X_test, y_train, y_test = train_test_split(features, targets, test_size=0.20, random_state=18)"
   ]
  },
  {
   "cell_type": "code",
   "execution_count": 17,
   "metadata": {
    "execution": {
     "iopub.execute_input": "2022-03-09T13:36:55.362321Z",
     "iopub.status.busy": "2022-03-09T13:36:55.361771Z",
     "iopub.status.idle": "2022-03-09T13:37:16.193770Z",
     "shell.execute_reply": "2022-03-09T13:37:16.192960Z",
     "shell.execute_reply.started": "2022-03-09T13:36:55.362282Z"
    }
   },
   "outputs": [],
   "source": [
    "def normalize(data):\n",
    "    normalized = []\n",
    "    for i in data:\n",
    "        i = i.lower()\n",
    "        # get rid of urls\n",
    "        i = re.sub('https?://\\S+|www\\.\\S+', '', i)\n",
    "        # get rid of non words and extra spaces\n",
    "        i = re.sub('\\\\W', ' ', i)\n",
    "        i = re.sub('\\n', '', i)\n",
    "        i = re.sub(' +', ' ', i)\n",
    "        i = re.sub('^ ', '', i)\n",
    "        i = re.sub(' $', '', i)\n",
    "        normalized.append(i)\n",
    "    return normalized\n",
    "\n",
    "X_train = normalize(X_train)\n",
    "X_test = normalize(X_test)\n"
   ]
  },
  {
   "cell_type": "code",
   "execution_count": 18,
   "metadata": {
    "execution": {
     "iopub.execute_input": "2022-03-09T13:38:26.186167Z",
     "iopub.status.busy": "2022-03-09T13:38:26.185498Z",
     "iopub.status.idle": "2022-03-09T13:38:36.918966Z",
     "shell.execute_reply": "2022-03-09T13:38:36.918095Z",
     "shell.execute_reply.started": "2022-03-09T13:38:26.186125Z"
    }
   },
   "outputs": [],
   "source": [
    "max_vocab = 10000\n",
    "tokenizer = Tokenizer(num_words=max_vocab)\n",
    "tokenizer.fit_on_texts(X_train)"
   ]
  },
  {
   "cell_type": "code",
   "execution_count": 19,
   "metadata": {
    "execution": {
     "iopub.execute_input": "2022-03-09T13:38:46.514009Z",
     "iopub.status.busy": "2022-03-09T13:38:46.513656Z",
     "iopub.status.idle": "2022-03-09T13:38:56.578425Z",
     "shell.execute_reply": "2022-03-09T13:38:56.577578Z",
     "shell.execute_reply.started": "2022-03-09T13:38:46.513965Z"
    }
   },
   "outputs": [],
   "source": [
    "# tokenize the text into vectors \n",
    "X_train = tokenizer.texts_to_sequences(X_train)\n",
    "X_test = tokenizer.texts_to_sequences(X_test)"
   ]
  },
  {
   "cell_type": "code",
   "execution_count": 20,
   "metadata": {
    "execution": {
     "iopub.execute_input": "2022-03-09T13:39:10.209651Z",
     "iopub.status.busy": "2022-03-09T13:39:10.209383Z",
     "iopub.status.idle": "2022-03-09T13:39:12.349150Z",
     "shell.execute_reply": "2022-03-09T13:39:12.348413Z",
     "shell.execute_reply.started": "2022-03-09T13:39:10.209622Z"
    }
   },
   "outputs": [],
   "source": [
    "X_train = tf.keras.preprocessing.sequence.pad_sequences(X_train, padding='post', maxlen=256)\n",
    "X_test = tf.keras.preprocessing.sequence.pad_sequences(X_test, padding='post', maxlen=256)"
   ]
  },
  {
   "cell_type": "code",
   "execution_count": 21,
   "metadata": {
    "execution": {
     "iopub.execute_input": "2022-03-09T13:39:36.434361Z",
     "iopub.status.busy": "2022-03-09T13:39:36.433580Z",
     "iopub.status.idle": "2022-03-09T13:39:39.374946Z",
     "shell.execute_reply": "2022-03-09T13:39:39.374224Z",
     "shell.execute_reply.started": "2022-03-09T13:39:36.434316Z"
    }
   },
   "outputs": [],
   "source": [
    "model = tf.keras.Sequential([\n",
    "    tf.keras.layers.Embedding(max_vocab, 128),\n",
    "    tf.keras.layers.Bidirectional(tf.keras.layers.LSTM(64,  return_sequences=True)),\n",
    "    tf.keras.layers.Bidirectional(tf.keras.layers.LSTM(16)),\n",
    "    tf.keras.layers.Dense(64, activation='relu'),\n",
    "    tf.keras.layers.Dropout(0.5),\n",
    "    tf.keras.layers.Dense(1)\n",
    "])\n",
    "\n",
    "model.summary()"
   ]
  },
  {
   "cell_type": "code",
   "execution_count": 22,
   "metadata": {
    "execution": {
     "iopub.execute_input": "2022-03-09T13:40:02.828003Z",
     "iopub.status.busy": "2022-03-09T13:40:02.827182Z",
     "iopub.status.idle": "2022-03-09T13:45:46.394406Z",
     "shell.execute_reply": "2022-03-09T13:45:46.393669Z",
     "shell.execute_reply.started": "2022-03-09T13:40:02.827948Z"
    }
   },
   "outputs": [],
   "source": [
    "early_stop = tf.keras.callbacks.EarlyStopping(monitor='val_loss', patience=2, restore_best_weights=True)\n",
    "model.compile(loss=tf.keras.losses.BinaryCrossentropy(from_logits=True),\n",
    "              optimizer=tf.keras.optimizers.Adam(1e-4),\n",
    "              metrics=['accuracy'])\n",
    "\n",
    "history = model.fit(X_train, y_train, epochs=10,validation_split=0.1, batch_size=30, shuffle=True, callbacks=[early_stop])"
   ]
  },
  {
   "cell_type": "code",
   "execution_count": 23,
   "metadata": {
    "execution": {
     "iopub.execute_input": "2022-03-09T14:00:36.203495Z",
     "iopub.status.busy": "2022-03-09T14:00:36.203213Z",
     "iopub.status.idle": "2022-03-09T14:00:36.450640Z",
     "shell.execute_reply": "2022-03-09T14:00:36.449946Z",
     "shell.execute_reply.started": "2022-03-09T14:00:36.203467Z"
    }
   },
   "outputs": [],
   "source": [
    "history_dict = history.history\n",
    "\n",
    "acc = history_dict['accuracy']\n",
    "val_acc = history_dict['val_accuracy']\n",
    "loss = history_dict['loss']\n",
    "val_loss = history_dict['val_loss']\n",
    "epochs = history.epoch\n",
    "\n",
    "plt.figure(figsize=(12,9))\n",
    "plt.plot(epochs, loss, 'r', label='Training loss')\n",
    "plt.plot(epochs, val_loss, 'b', label='Validation loss')\n",
    "plt.title('Training and validation loss', size=20)\n",
    "plt.xlabel('Epochs', size=20)\n",
    "plt.ylabel('Loss', size=20)\n",
    "plt.legend(prop={'size': 20})\n",
    "plt.show()\n"
   ]
  },
  {
   "cell_type": "code",
   "execution_count": 24,
   "metadata": {
    "execution": {
     "iopub.execute_input": "2022-03-09T14:00:48.927553Z",
     "iopub.status.busy": "2022-03-09T14:00:48.927255Z",
     "iopub.status.idle": "2022-03-09T14:00:53.893094Z",
     "shell.execute_reply": "2022-03-09T14:00:53.892410Z",
     "shell.execute_reply.started": "2022-03-09T14:00:48.927524Z"
    }
   },
   "outputs": [],
   "source": [
    "model.evaluate(X_test, y_test)"
   ]
  },
  {
   "cell_type": "code",
   "execution_count": 25,
   "metadata": {
    "execution": {
     "iopub.execute_input": "2022-03-09T14:01:09.051748Z",
     "iopub.status.busy": "2022-03-09T14:01:09.051020Z",
     "iopub.status.idle": "2022-03-09T14:01:14.636862Z",
     "shell.execute_reply": "2022-03-09T14:01:14.636066Z",
     "shell.execute_reply.started": "2022-03-09T14:01:09.051689Z"
    }
   },
   "outputs": [],
   "source": [
    "pred = model.predict(X_test)\n",
    "\n",
    "binary_predictions = []\n",
    "\n",
    "for i in pred:\n",
    "    if i >= 0.5:\n",
    "        binary_predictions.append(1)\n",
    "    else:\n",
    "        binary_predictions.append(0)"
   ]
  },
  {
   "cell_type": "code",
   "execution_count": 26,
   "metadata": {
    "execution": {
     "iopub.execute_input": "2022-03-09T14:01:29.292480Z",
     "iopub.status.busy": "2022-03-09T14:01:29.291984Z",
     "iopub.status.idle": "2022-03-09T14:01:29.333897Z",
     "shell.execute_reply": "2022-03-09T14:01:29.332834Z",
     "shell.execute_reply.started": "2022-03-09T14:01:29.292442Z"
    }
   },
   "outputs": [],
   "source": [
    "print('Accuracy on testing set:', accuracy_score(binary_predictions, y_test))\n",
    "print('Precision on testing set:', precision_score(binary_predictions, y_test))\n",
    "print('Recall on testing set:', recall_score(binary_predictions, y_test))"
   ]
  },
  {
   "cell_type": "code",
   "execution_count": 27,
   "metadata": {
    "execution": {
     "iopub.execute_input": "2022-03-09T14:01:42.387846Z",
     "iopub.status.busy": "2022-03-09T14:01:42.387507Z",
     "iopub.status.idle": "2022-03-09T14:01:42.664330Z",
     "shell.execute_reply": "2022-03-09T14:01:42.663608Z",
     "shell.execute_reply.started": "2022-03-09T14:01:42.387809Z"
    }
   },
   "outputs": [],
   "source": [
    "matrix = confusion_matrix(binary_predictions, y_test, normalize='all')\n",
    "plt.figure(figsize=(16, 10))\n",
    "ax= plt.subplot()\n",
    "sns.heatmap(matrix, annot=True, ax = ax)\n",
    "\n",
    "# labels, title and ticks\n",
    "ax.set_xlabel('Predicted Labels', size=20)\n",
    "ax.set_ylabel('True Labels', size=20)\n",
    "ax.set_title('Confusion Matrix', size=20) \n",
    "ax.xaxis.set_ticklabels([0,1], size=15)\n",
    "ax.yaxis.set_ticklabels([0,1], size=15)"
   ]
  },
  {
   "cell_type": "code",
   "execution_count": null,
   "metadata": {},
   "outputs": [],
   "source": []
  }
 ],
 "metadata": {
  "kernelspec": {
   "display_name": "Python 3",
   "language": "python",
   "name": "python3"
  },
  "language_info": {
   "codemirror_mode": {
    "name": "ipython",
    "version": 3
   },
   "file_extension": ".py",
   "mimetype": "text/x-python",
   "name": "python",
   "nbconvert_exporter": "python",
   "pygments_lexer": "ipython3",
   "version": "3.6.5"
  }
 },
 "nbformat": 4,
 "nbformat_minor": 4
}
